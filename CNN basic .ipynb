{
 "cells": [
  {
   "cell_type": "markdown",
   "metadata": {},
   "source": [
    "# CNN for Fashion_mnist dataset"
   ]
  },
  {
   "cell_type": "code",
   "execution_count": 5,
   "metadata": {
    "colab": {
     "base_uri": "https://localhost:8080/"
    },
    "id": "rU493RFNisuM",
    "outputId": "3b59b232-886a-4297-e9fa-00130b8d4837"
   },
   "outputs": [
    {
     "name": "stdout",
     "output_type": "stream",
     "text": [
      "\u001b[31mERROR: Could not find a version that satisfies the requirement tensorflow-gpu==2.0.0-betal (from versions: 1.13.1, 1.13.2, 1.14.0, 1.15.0rc0, 1.15.0rc1, 1.15.0rc2, 1.15.0rc3, 1.15.0, 1.15.2, 1.15.3, 1.15.4, 1.15.5, 2.0.0a0, 2.0.0b0, 2.0.0b1, 2.0.0rc0, 2.0.0rc1, 2.0.0rc2, 2.0.0, 2.0.1, 2.0.2, 2.0.3, 2.0.4, 2.1.0rc0, 2.1.0rc1, 2.1.0rc2, 2.1.0, 2.1.1, 2.1.2, 2.1.3, 2.1.4, 2.2.0rc0, 2.2.0rc1, 2.2.0rc2, 2.2.0rc3, 2.2.0rc4, 2.2.0, 2.2.1, 2.2.2, 2.2.3, 2.3.0rc0, 2.3.0rc1, 2.3.0rc2, 2.3.0, 2.3.1, 2.3.2, 2.3.3, 2.3.4, 2.4.0rc0, 2.4.0rc1, 2.4.0rc2, 2.4.0rc3, 2.4.0rc4, 2.4.0, 2.4.1, 2.4.2, 2.4.3, 2.5.0rc0, 2.5.0rc1, 2.5.0rc2, 2.5.0rc3, 2.5.0, 2.5.1, 2.6.0rc0, 2.6.0rc1, 2.6.0rc2, 2.6.0)\u001b[0m\n",
      "\u001b[31mERROR: No matching distribution found for tensorflow-gpu==2.0.0-betal\u001b[0m\n",
      "2.6.0\n"
     ]
    }
   ],
   "source": [
    "!pip install -q tensorflow-gpu==2.0.0-betal\n",
    "import tensorflow as tf\n",
    "print(tf.__version__)"
   ]
  },
  {
   "cell_type": "markdown",
   "metadata": {
    "id": "vijVyOkup5Bp"
   },
   "source": [
    "Importing necessary libraries "
   ]
  },
  {
   "cell_type": "code",
   "execution_count": 7,
   "metadata": {
    "id": "iA2cHj30hxC9"
   },
   "outputs": [],
   "source": [
    "\n",
    "import numpy as np\n",
    "import pandas as pd\n",
    "import matplotlib.pyplot as plt\n",
    "from tensorflow.keras.layers import Input,Conv2D,Dense,Flatten,Dropout\n",
    "from tensorflow.keras.models import Model"
   ]
  },
  {
   "cell_type": "markdown",
   "metadata": {
    "id": "CI4vkDyrqBkw"
   },
   "source": [
    "classical Fashion mnist_dataset "
   ]
  },
  {
   "cell_type": "code",
   "execution_count": 10,
   "metadata": {
    "colab": {
     "base_uri": "https://localhost:8080/"
    },
    "id": "2C7X4SlAiazE",
    "outputId": "66e759fe-e960-4cd2-f266-695fb558493f"
   },
   "outputs": [
    {
     "name": "stdout",
     "output_type": "stream",
     "text": [
      "Downloading data from https://storage.googleapis.com/tensorflow/tf-keras-datasets/train-labels-idx1-ubyte.gz\n",
      "32768/29515 [=================================] - 0s 0us/step\n",
      "40960/29515 [=========================================] - 0s 0us/step\n",
      "Downloading data from https://storage.googleapis.com/tensorflow/tf-keras-datasets/train-images-idx3-ubyte.gz\n",
      "26427392/26421880 [==============================] - 0s 0us/step\n",
      "26435584/26421880 [==============================] - 0s 0us/step\n",
      "Downloading data from https://storage.googleapis.com/tensorflow/tf-keras-datasets/t10k-labels-idx1-ubyte.gz\n",
      "16384/5148 [===============================================================================================] - 0s 0us/step\n",
      "Downloading data from https://storage.googleapis.com/tensorflow/tf-keras-datasets/t10k-images-idx3-ubyte.gz\n",
      "4423680/4422102 [==============================] - 0s 0us/step\n",
      "4431872/4422102 [==============================] - 0s 0us/step\n",
      "x_train shape: (60000, 28, 28)\n"
     ]
    }
   ],
   "source": [
    "fashion_mnist = tf.keras.datasets.fashion_mnist\n",
    "\n",
    "(x_train,y_train),(x_test,y_test) = fashion_mnist.load_data()\n",
    "x_train,x_test = x_train / 255.0, x_test / 255.0\n",
    "print(\"x_train shape:\",x_train.shape)\n"
   ]
  },
  {
   "cell_type": "code",
   "execution_count": 11,
   "metadata": {
    "colab": {
     "base_uri": "https://localhost:8080/"
    },
    "id": "2feUgbkOj_R3",
    "outputId": "0f9a8909-6d5c-4ae4-bf20-0decd155d87a"
   },
   "outputs": [
    {
     "name": "stdout",
     "output_type": "stream",
     "text": [
      "(60000, 28, 28, 1)\n"
     ]
    }
   ],
   "source": [
    "x_train = np.expand_dims(x_train,-1)\n",
    "x_test = np.expand_dims(x_test,-1)\n",
    "print(x_train.shape)"
   ]
  },
  {
   "cell_type": "code",
   "execution_count": 12,
   "metadata": {
    "colab": {
     "base_uri": "https://localhost:8080/"
    },
    "id": "DZq6RTvBknYL",
    "outputId": "93240ad7-f62f-4af6-b8fb-2251d8ecf0de"
   },
   "outputs": [
    {
     "name": "stdout",
     "output_type": "stream",
     "text": [
      "number of classes: 10\n"
     ]
    }
   ],
   "source": [
    "K = len(set(y_train))\n",
    "print(\"number of classes:\",K)"
   ]
  },
  {
   "cell_type": "markdown",
   "metadata": {
    "id": "Y_U25_9GtJbl"
   },
   "source": [
    "Model building "
   ]
  },
  {
   "cell_type": "code",
   "execution_count": 14,
   "metadata": {
    "id": "ZCiEr6XzkzUr"
   },
   "outputs": [],
   "source": [
    "i = Input(shape=x_train[0].shape)\n",
    "x = Conv2D(32,(3,3),strides = 2,activation=\"relu\")(i)\n",
    "x = Conv2D(64,(3,3),strides = 2,activation=\"relu\")(x)\n",
    "x = Conv2D(128,(3,3),strides = 2,activation=\"relu\")(x)\n",
    "x = Flatten()(x)\n",
    "x = Dropout(0.2)(x)\n",
    "x = Dense(512,activation='relu')(x)\n",
    "x = Dropout(0.2)(x)\n",
    "x = Dense(K,activation='softmax')(x)\n",
    "\n",
    "model = Model(i,x)"
   ]
  },
  {
   "cell_type": "markdown",
   "metadata": {
    "id": "0GjH-LZdtQEA"
   },
   "source": [
    "Compile and fit "
   ]
  },
  {
   "cell_type": "code",
   "execution_count": 15,
   "metadata": {
    "colab": {
     "base_uri": "https://localhost:8080/"
    },
    "id": "ie3_9TSNmhFh",
    "outputId": "e7ff01e2-f632-49cf-ace5-2606733855da"
   },
   "outputs": [
    {
     "name": "stdout",
     "output_type": "stream",
     "text": [
      "Epoch 1/20\n",
      "1875/1875 [==============================] - 23s 12ms/step - loss: 0.5194 - accuracy: 0.8085 - val_loss: 0.3962 - val_accuracy: 0.8551\n",
      "Epoch 2/20\n",
      "1875/1875 [==============================] - 22s 12ms/step - loss: 0.3573 - accuracy: 0.8671 - val_loss: 0.3371 - val_accuracy: 0.8733\n",
      "Epoch 3/20\n",
      "1875/1875 [==============================] - 22s 12ms/step - loss: 0.3077 - accuracy: 0.8845 - val_loss: 0.3337 - val_accuracy: 0.8771\n",
      "Epoch 4/20\n",
      "1875/1875 [==============================] - 22s 12ms/step - loss: 0.2745 - accuracy: 0.8973 - val_loss: 0.2999 - val_accuracy: 0.8893\n",
      "Epoch 5/20\n",
      "1875/1875 [==============================] - 22s 12ms/step - loss: 0.2509 - accuracy: 0.9054 - val_loss: 0.3031 - val_accuracy: 0.8935\n",
      "Epoch 6/20\n",
      "1875/1875 [==============================] - 22s 12ms/step - loss: 0.2300 - accuracy: 0.9120 - val_loss: 0.2991 - val_accuracy: 0.8956\n",
      "Epoch 7/20\n",
      "1875/1875 [==============================] - 22s 12ms/step - loss: 0.2113 - accuracy: 0.9195 - val_loss: 0.2954 - val_accuracy: 0.9025\n",
      "Epoch 8/20\n",
      "1875/1875 [==============================] - 22s 11ms/step - loss: 0.1926 - accuracy: 0.9275 - val_loss: 0.2870 - val_accuracy: 0.8998\n",
      "Epoch 9/20\n",
      "1875/1875 [==============================] - 22s 12ms/step - loss: 0.1828 - accuracy: 0.9302 - val_loss: 0.2959 - val_accuracy: 0.9006\n",
      "Epoch 10/20\n",
      "1875/1875 [==============================] - 22s 12ms/step - loss: 0.1678 - accuracy: 0.9360 - val_loss: 0.3172 - val_accuracy: 0.9006\n",
      "Epoch 11/20\n",
      "1875/1875 [==============================] - 22s 12ms/step - loss: 0.1594 - accuracy: 0.9389 - val_loss: 0.3300 - val_accuracy: 0.8990\n",
      "Epoch 12/20\n",
      "1875/1875 [==============================] - 22s 12ms/step - loss: 0.1514 - accuracy: 0.9419 - val_loss: 0.3225 - val_accuracy: 0.8995\n",
      "Epoch 13/20\n",
      "1875/1875 [==============================] - 22s 12ms/step - loss: 0.1404 - accuracy: 0.9464 - val_loss: 0.3540 - val_accuracy: 0.8996\n",
      "Epoch 14/20\n",
      "1875/1875 [==============================] - 22s 12ms/step - loss: 0.1345 - accuracy: 0.9488 - val_loss: 0.3315 - val_accuracy: 0.9026\n",
      "Epoch 15/20\n",
      "1875/1875 [==============================] - 22s 12ms/step - loss: 0.1233 - accuracy: 0.9524 - val_loss: 0.3553 - val_accuracy: 0.9035\n",
      "Epoch 16/20\n",
      "1875/1875 [==============================] - 22s 12ms/step - loss: 0.1197 - accuracy: 0.9546 - val_loss: 0.3735 - val_accuracy: 0.8954\n",
      "Epoch 17/20\n",
      "1875/1875 [==============================] - 22s 12ms/step - loss: 0.1165 - accuracy: 0.9562 - val_loss: 0.3611 - val_accuracy: 0.9044\n",
      "Epoch 18/20\n",
      "1875/1875 [==============================] - 22s 12ms/step - loss: 0.1117 - accuracy: 0.9578 - val_loss: 0.3731 - val_accuracy: 0.9042\n",
      "Epoch 19/20\n",
      "1875/1875 [==============================] - 22s 12ms/step - loss: 0.1013 - accuracy: 0.9610 - val_loss: 0.4292 - val_accuracy: 0.8960\n",
      "Epoch 20/20\n",
      "1875/1875 [==============================] - 22s 12ms/step - loss: 0.1039 - accuracy: 0.9614 - val_loss: 0.4042 - val_accuracy: 0.9015\n"
     ]
    }
   ],
   "source": [
    "model.compile(optimizer='adam',loss = 'sparse_categorical_crossentropy',metrics = ['accuracy'])\n",
    "r = model.fit(x_train,y_train,validation_data=(x_test,y_test),epochs = 20)"
   ]
  },
  {
   "cell_type": "markdown",
   "metadata": {
    "id": "j1DOMvn9ta9Y"
   },
   "source": [
    "Loss per iteration"
   ]
  },
  {
   "cell_type": "code",
   "execution_count": 16,
   "metadata": {
    "colab": {
     "base_uri": "https://localhost:8080/",
     "height": 283
    },
    "id": "uIMmWFk4nRVK",
    "outputId": "6f4ce22a-d4c3-49fb-e0e1-53ca04451263"
   },
   "outputs": [
    {
     "data": {
      "text/plain": [
       "<matplotlib.legend.Legend at 0x7f0081699bd0>"
      ]
     },
     "execution_count": 16,
     "metadata": {},
     "output_type": "execute_result"
    },
    {
     "data": {
      "image/png": "[encoded data removed]",
      "text/plain": [
       "<Figure size 432x288 with 1 Axes>"
      ]
     },
     "metadata": {
      "needs_background": "light"
     },
     "output_type": "display_data"
    }
   ],
   "source": [
    "plt.plot(r.history['accuracy'],label = 'acc')\n",
    "plt.plot(r.history['val_accuracy'],label = 'val_acc')\n",
    "plt.legend()"
   ]
  },
  {
   "cell_type": "code",
   "execution_count": null,
   "metadata": {
    "id": "V_bzj_9Hn_lK"
   },
   "outputs": [],
   "source": []
  }
 ],
 "metadata": {
  "colab": {
   "collapsed_sections": [],
   "name": "CNN_1.ipynb",
   "provenance": []
  },
  "kernelspec": {
   "display_name": "Python 3 (ipykernel)",
   "language": "python",
   "name": "python3"
  },
  "language_info": {
   "codemirror_mode": {
    "name": "ipython",
    "version": 3
   },
   "file_extension": ".py",
   "mimetype": "text/x-python",
   "name": "python",
   "nbconvert_exporter": "python",
   "pygments_lexer": "ipython3",
   "version": "3.9.7"
  }
 },
 "nbformat": 4,
 "nbformat_minor": 1
}
